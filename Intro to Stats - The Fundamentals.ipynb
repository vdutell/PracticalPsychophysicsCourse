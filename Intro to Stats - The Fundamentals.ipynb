{
 "cells": [
  {
   "cell_type": "markdown",
   "metadata": {},
   "source": [
    "## Equation for SD:\n",
    "\n",
    "$$ \\sqrt{\\sum{(x_i-x_{bar})^2}{n-df}}$$"
   ]
  },
  {
   "cell_type": "code",
   "execution_count": 43,
   "metadata": {
    "collapsed": false
   },
   "outputs": [
    {
     "name": "stdout",
     "output_type": "stream",
     "text": [
      "std:  [ 0.99489182  0.99831568  1.00037291  0.9971358   1.00985457]\n",
      "mean:  1.00011415456\n"
     ]
    }
   ],
   "source": [
    "import numpy as np\n",
    "import matplotlib.pyplot as plt\n",
    "\n",
    "data = np.random.randn(5,10000) #random values normally distributed \n",
    "\n",
    "std_data = np.std(data,axis=1) #std of data\n",
    "mean_std = np.mean(std_data) #mean of stds\n",
    "\n",
    "print('std: ',std_data)\n",
    "print('mean: ', mean_std)"
   ]
  },
  {
   "cell_type": "code",
   "execution_count": 14,
   "metadata": {
    "collapsed": false
   },
   "outputs": [
    {
     "data": {
      "image/png": "[encoded data removed]",
      "text/plain": [
       "<matplotlib.figure.Figure at 0x10cfaddd8>"
      ]
     },
     "metadata": {},
     "output_type": "display_data"
    }
   ],
   "source": [
    "plt.pcolormesh(data,cmap='viridis')\n",
    "plt.colorbar()\n",
    "plt.show()"
   ]
  },
  {
   "cell_type": "markdown",
   "metadata": {},
   "source": [
    "## A T-test has a bias!\n",
    "\n",
    "the $f$ from ANOVA is equal to $t^2$  \n",
    "$variance = SD^2$\n",
    "\n",
    "Variance will **always** be in the units of our data (inches, etc)  \n",
    "SD will **always** be in $units^2$ . \n",
    "\n",
    "We use $t$ instead of $z$ because we may not have enough data because we are doing a psychophysics or biological experiment. Because $n$ is too low, we use this method instead.  \n",
    "\n",
    "If we use Monte Carlo Simulations, we can (with the right parameters known) well mimic our true experimental conditions, simulate is many times, and we can get our true error bars and if it's significant. But if we aren't sure about our model, then we'll instead have to a bootstrap. If we have faith in our model though, we are better off doign a MC simulation.  \n",
    "\n",
    "A **Bootstrap** starts with your data and repeat it many times by sampling with replacement.  \n",
    "\n",
    "A **Monte Carlo** simulation instead starts with our model and generates data for us.   \n",
    "\n",
    "If we do a nonlinear regression, we always need to double check with a bootstrap or monte carlo simulation to make sure we are modeling the right amount of nonlinearity.    \n",
    "\n",
    "Another type of mean, RMS (root mean squared), means you take the square of each value, \n",
    "\n",
    "$$RMS = \\sqrt{\\frac{\\sum{x_i^2}}{n}}$$"
   ]
  },
  {
   "cell_type": "markdown",
   "metadata": {},
   "source": [
    " ## Monte Carlo Simulation"
   ]
  },
  {
   "cell_type": "code",
   "execution_count": null,
   "metadata": {
    "collapsed": true
   },
   "outputs": [],
   "source": [
    "repeats = 10000\n",
    "samples = 5\n",
    "\n",
    "for k in range(50):\n",
    "    "
   ]
  },
  {
   "cell_type": "markdown",
   "metadata": {},
   "source": [
    "## HW for next week:\n",
    "\n",
    "### Read article on ANOVA of salaries\n",
    "\n",
    "This is a three-factor ANOVA. There are many different ways to perform this. We can do it with:\n",
    "1. The way done in the article (categorial)   \n",
    "2. Linear Regression  \n",
    "3. Nonlienar Regression  \n",
    "    - This way includes correlations (covariance matrix)  \n",
    "    - Also includes standard errors for the values we get back\n",
    "    \n",
    "###  Compare the Zhan paper to the Matlab Code Stan has"
   ]
  },
  {
   "cell_type": "code",
   "execution_count": null,
   "metadata": {
    "collapsed": true
   },
   "outputs": [],
   "source": []
  }
 ],
 "metadata": {
  "anaconda-cloud": {},
  "kernelspec": {
   "display_name": "Python [conda root]",
   "language": "python",
   "name": "conda-root-py"
  },
  "language_info": {
   "codemirror_mode": {
    "name": "ipython",
    "version": 3
   },
   "file_extension": ".py",
   "mimetype": "text/x-python",
   "name": "python",
   "nbconvert_exporter": "python",
   "pygments_lexer": "ipython3",
   "version": "3.5.2"
  }
 },
 "nbformat": 4,
 "nbformat_minor": 1
}
